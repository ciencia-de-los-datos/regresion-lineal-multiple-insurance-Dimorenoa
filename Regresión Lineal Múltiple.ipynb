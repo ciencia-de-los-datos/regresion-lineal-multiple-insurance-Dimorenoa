{
 "cells": [
  {
   "cell_type": "code",
   "execution_count": 35,
   "id": "86afb335",
   "metadata": {},
   "outputs": [],
   "source": [
    "import numpy as np\n",
    "import pandas as pd"
   ]
  },
  {
   "cell_type": "code",
   "execution_count": 36,
   "id": "d41446c4",
   "metadata": {},
   "outputs": [],
   "source": [
    "def pregunta_01():\n",
    "    \"\"\"\n",
    "    Carga de datos.\n",
    "    -------------------------------------------------------------------------------------\n",
    "    \"\"\"\n",
    "    # Lea el archivo `insurance.csv` y asignelo al DataFrame `df`\n",
    "    df = pd.read_csv('insurance.csv')\n",
    "\n",
    "    # Asigne la columna `charges` a la variable `y`.\n",
    "    y = df['charges'].values\n",
    "\n",
    "    # Asigne una copia del dataframe `df` a la variable `X`.\n",
    "    X1 = df.copy()\n",
    "\n",
    "    # Remueva la columna `charges` del DataFrame `X`.\n",
    "    X=X1.drop(['charges'],axis=1)\n",
    "\n",
    "    # Retorne `X` y `y`\n",
    "    return X, y"
   ]
  },
  {
   "cell_type": "code",
   "execution_count": 37,
   "id": "ac2af41d",
   "metadata": {},
   "outputs": [],
   "source": [
    " # Lea el archivo `insurance.csv` y asignelo al DataFrame `df`\n",
    "df = pd.read_csv('insurance.csv')"
   ]
  },
  {
   "cell_type": "code",
   "execution_count": 38,
   "id": "8b1b8e14",
   "metadata": {},
   "outputs": [
    {
     "data": {
      "text/html": [
       "<div>\n",
       "<style scoped>\n",
       "    .dataframe tbody tr th:only-of-type {\n",
       "        vertical-align: middle;\n",
       "    }\n",
       "\n",
       "    .dataframe tbody tr th {\n",
       "        vertical-align: top;\n",
       "    }\n",
       "\n",
       "    .dataframe thead th {\n",
       "        text-align: right;\n",
       "    }\n",
       "</style>\n",
       "<table border=\"1\" class=\"dataframe\">\n",
       "  <thead>\n",
       "    <tr style=\"text-align: right;\">\n",
       "      <th></th>\n",
       "      <th>age</th>\n",
       "      <th>sex</th>\n",
       "      <th>bmi</th>\n",
       "      <th>children</th>\n",
       "      <th>smoker</th>\n",
       "      <th>region</th>\n",
       "      <th>charges</th>\n",
       "    </tr>\n",
       "  </thead>\n",
       "  <tbody>\n",
       "    <tr>\n",
       "      <th>0</th>\n",
       "      <td>19</td>\n",
       "      <td>female</td>\n",
       "      <td>27.900</td>\n",
       "      <td>0</td>\n",
       "      <td>yes</td>\n",
       "      <td>southwest</td>\n",
       "      <td>16884.92400</td>\n",
       "    </tr>\n",
       "    <tr>\n",
       "      <th>1</th>\n",
       "      <td>18</td>\n",
       "      <td>male</td>\n",
       "      <td>33.770</td>\n",
       "      <td>1</td>\n",
       "      <td>no</td>\n",
       "      <td>southeast</td>\n",
       "      <td>1725.55230</td>\n",
       "    </tr>\n",
       "    <tr>\n",
       "      <th>2</th>\n",
       "      <td>28</td>\n",
       "      <td>male</td>\n",
       "      <td>33.000</td>\n",
       "      <td>3</td>\n",
       "      <td>no</td>\n",
       "      <td>southeast</td>\n",
       "      <td>4449.46200</td>\n",
       "    </tr>\n",
       "    <tr>\n",
       "      <th>3</th>\n",
       "      <td>33</td>\n",
       "      <td>male</td>\n",
       "      <td>22.705</td>\n",
       "      <td>0</td>\n",
       "      <td>no</td>\n",
       "      <td>northwest</td>\n",
       "      <td>21984.47061</td>\n",
       "    </tr>\n",
       "    <tr>\n",
       "      <th>4</th>\n",
       "      <td>32</td>\n",
       "      <td>male</td>\n",
       "      <td>28.880</td>\n",
       "      <td>0</td>\n",
       "      <td>no</td>\n",
       "      <td>northwest</td>\n",
       "      <td>3866.85520</td>\n",
       "    </tr>\n",
       "  </tbody>\n",
       "</table>\n",
       "</div>"
      ],
      "text/plain": [
       "   age     sex     bmi  children smoker     region      charges\n",
       "0   19  female  27.900         0    yes  southwest  16884.92400\n",
       "1   18    male  33.770         1     no  southeast   1725.55230\n",
       "2   28    male  33.000         3     no  southeast   4449.46200\n",
       "3   33    male  22.705         0     no  northwest  21984.47061\n",
       "4   32    male  28.880         0     no  northwest   3866.85520"
      ]
     },
     "execution_count": 38,
     "metadata": {},
     "output_type": "execute_result"
    }
   ],
   "source": [
    "df.head()"
   ]
  },
  {
   "cell_type": "code",
   "execution_count": 39,
   "id": "dcee2e90",
   "metadata": {},
   "outputs": [],
   "source": [
    "# Asigne la columna `charges` a la variable `y`.\n",
    "y = df['charges'].values"
   ]
  },
  {
   "cell_type": "code",
   "execution_count": 40,
   "id": "57480eea",
   "metadata": {},
   "outputs": [],
   "source": [
    "# Asigne una copia del dataframe `df` a la variable `X`.\n",
    "X1 = df.copy()"
   ]
  },
  {
   "cell_type": "code",
   "execution_count": 41,
   "id": "5ba7f3b5",
   "metadata": {},
   "outputs": [],
   "source": [
    "# Remueva la columna `charges` del DataFrame `X`.\n",
    "X=X1.drop(['charges'],axis=1)"
   ]
  },
  {
   "cell_type": "code",
   "execution_count": 42,
   "id": "1d25ba47",
   "metadata": {},
   "outputs": [
    {
     "data": {
      "text/plain": [
       "(1338, 6)"
      ]
     },
     "execution_count": 42,
     "metadata": {},
     "output_type": "execute_result"
    }
   ],
   "source": [
    "X.shape"
   ]
  },
  {
   "cell_type": "code",
   "execution_count": 43,
   "id": "b15b357f",
   "metadata": {},
   "outputs": [
    {
     "data": {
      "text/plain": [
       "(1338,)"
      ]
     },
     "execution_count": 43,
     "metadata": {},
     "output_type": "execute_result"
    }
   ],
   "source": [
    "y.shape"
   ]
  },
  {
   "cell_type": "code",
   "execution_count": 44,
   "id": "5207e6ee",
   "metadata": {},
   "outputs": [],
   "source": [
    "def pregunta_02():\n",
    "    \"\"\"\n",
    "    Preparación de los conjuntos de datos.\n",
    "    -------------------------------------------------------------------------------------\n",
    "    \"\"\"\n",
    "\n",
    "    # Importe train_test_split\n",
    "    from ____ import ____\n",
    "\n",
    "    # Cargue los datos y asigne los resultados a `X` y `y`.\n",
    "    X, y = pregunta_01()\n",
    "\n",
    "    # Divida los datos de entrenamiento y prueba. La semilla del generador de números\n",
    "    # aleatorios es 12345. Use 300 patrones para la muestra de prueba.\n",
    "    (X_train, X_test, y_train, y_test,) = ____(\n",
    "        ____,\n",
    "        ____,\n",
    "        test_size=____,\n",
    "        random_state=____,\n",
    "    )\n",
    "\n",
    "    # Retorne `X_train`, `X_test`, `y_train` y `y_test`\n",
    "    return X_train, X_test, y_train, y_test"
   ]
  },
  {
   "cell_type": "code",
   "execution_count": 45,
   "id": "bfd632be",
   "metadata": {},
   "outputs": [],
   "source": [
    "from sklearn.model_selection import train_test_split"
   ]
  },
  {
   "cell_type": "code",
   "execution_count": 46,
   "id": "018da69a",
   "metadata": {},
   "outputs": [],
   "source": [
    " # Cargue los datos y asigne los resultados a `X` y `y`.\n",
    "X, y = pregunta_01()"
   ]
  },
  {
   "cell_type": "code",
   "execution_count": null,
   "id": "c7264b42",
   "metadata": {},
   "outputs": [],
   "source": [
    "# Divida los datos de entrenamiento y prueba. La semilla del generador de números\n",
    "# aleatorios es 12345. Use 300 patrones para la muestra de prueba.\n",
    "(X_train, X_test, y_train, y_test,) = train_test_split(\n",
    "    X,\n",
    "    y,\n",
    "    test_size=300,\n",
    "    random_state=_,\n",
    ")"
   ]
  },
  {
   "cell_type": "code",
   "execution_count": null,
   "id": "30782a8b",
   "metadata": {},
   "outputs": [],
   "source": [
    "(X_train, X_test, y_train, y_test,) = train_test_split(\n",
    "        X_fertility,\n",
    "        y_life,\n",
    "        test_size= round(0.2*len(X_fertility)),\n",
    "        random_state= 53,\n",
    "    )"
   ]
  }
 ],
 "metadata": {
  "kernelspec": {
   "display_name": "Python 3 (ipykernel)",
   "language": "python",
   "name": "python3"
  },
  "language_info": {
   "codemirror_mode": {
    "name": "ipython",
    "version": 3
   },
   "file_extension": ".py",
   "mimetype": "text/x-python",
   "name": "python",
   "nbconvert_exporter": "python",
   "pygments_lexer": "ipython3",
   "version": "3.9.7"
  }
 },
 "nbformat": 4,
 "nbformat_minor": 5
}
