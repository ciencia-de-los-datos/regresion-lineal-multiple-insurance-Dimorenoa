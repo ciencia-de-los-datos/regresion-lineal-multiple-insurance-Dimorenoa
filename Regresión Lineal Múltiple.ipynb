{
 "cells": [
  {
   "cell_type": "code",
   "execution_count": 5,
   "id": "a2b6e2e3",
   "metadata": {},
   "outputs": [],
   "source": [
    "import numpy as np\n",
    "import pandas as pd"
   ]
  },
  {
   "cell_type": "code",
   "execution_count": 6,
   "id": "d579ef80",
   "metadata": {},
   "outputs": [],
   "source": [
    "def pregunta_01():\n",
    "    \"\"\"\n",
    "    Carga de datos.\n",
    "    -------------------------------------------------------------------------------------\n",
    "    \"\"\"\n",
    "    # Lea el archivo `insurance.csv` y asignelo al DataFrame `df`\n",
    "    df = pd.read_csv('insurance.csv')\n",
    "\n",
    "    # Asigne la columna `charges` a la variable `y`.\n",
    "    y = df['charges'].values\n",
    "\n",
    "    # Asigne una copia del dataframe `df` a la variable `X`.\n",
    "    X1 = df.copy()\n",
    "\n",
    "    # Remueva la columna `charges` del DataFrame `X`.\n",
    "    X=X1.drop(['charges'],axis=1)\n",
    "\n",
    "    # Retorne `X` y `y`\n",
    "    return X, y\n"
   ]
  },
  {
   "cell_type": "code",
   "execution_count": 7,
   "id": "9c08938a",
   "metadata": {},
   "outputs": [],
   "source": [
    " # Lea el archivo `insurance.csv` y asignelo al DataFrame `df`\n",
    "df = pd.read_csv('insurance.csv')"
   ]
  },
  {
   "cell_type": "code",
   "execution_count": 8,
   "id": "bc7ee915",
   "metadata": {},
   "outputs": [
    {
     "data": {
      "text/html": [
       "<div>\n",
       "<style scoped>\n",
       "    .dataframe tbody tr th:only-of-type {\n",
       "        vertical-align: middle;\n",
       "    }\n",
       "\n",
       "    .dataframe tbody tr th {\n",
       "        vertical-align: top;\n",
       "    }\n",
       "\n",
       "    .dataframe thead th {\n",
       "        text-align: right;\n",
       "    }\n",
       "</style>\n",
       "<table border=\"1\" class=\"dataframe\">\n",
       "  <thead>\n",
       "    <tr style=\"text-align: right;\">\n",
       "      <th></th>\n",
       "      <th>age</th>\n",
       "      <th>sex</th>\n",
       "      <th>bmi</th>\n",
       "      <th>children</th>\n",
       "      <th>smoker</th>\n",
       "      <th>region</th>\n",
       "      <th>charges</th>\n",
       "    </tr>\n",
       "  </thead>\n",
       "  <tbody>\n",
       "    <tr>\n",
       "      <th>0</th>\n",
       "      <td>19</td>\n",
       "      <td>female</td>\n",
       "      <td>27.900</td>\n",
       "      <td>0</td>\n",
       "      <td>yes</td>\n",
       "      <td>southwest</td>\n",
       "      <td>16884.92400</td>\n",
       "    </tr>\n",
       "    <tr>\n",
       "      <th>1</th>\n",
       "      <td>18</td>\n",
       "      <td>male</td>\n",
       "      <td>33.770</td>\n",
       "      <td>1</td>\n",
       "      <td>no</td>\n",
       "      <td>southeast</td>\n",
       "      <td>1725.55230</td>\n",
       "    </tr>\n",
       "    <tr>\n",
       "      <th>2</th>\n",
       "      <td>28</td>\n",
       "      <td>male</td>\n",
       "      <td>33.000</td>\n",
       "      <td>3</td>\n",
       "      <td>no</td>\n",
       "      <td>southeast</td>\n",
       "      <td>4449.46200</td>\n",
       "    </tr>\n",
       "    <tr>\n",
       "      <th>3</th>\n",
       "      <td>33</td>\n",
       "      <td>male</td>\n",
       "      <td>22.705</td>\n",
       "      <td>0</td>\n",
       "      <td>no</td>\n",
       "      <td>northwest</td>\n",
       "      <td>21984.47061</td>\n",
       "    </tr>\n",
       "    <tr>\n",
       "      <th>4</th>\n",
       "      <td>32</td>\n",
       "      <td>male</td>\n",
       "      <td>28.880</td>\n",
       "      <td>0</td>\n",
       "      <td>no</td>\n",
       "      <td>northwest</td>\n",
       "      <td>3866.85520</td>\n",
       "    </tr>\n",
       "  </tbody>\n",
       "</table>\n",
       "</div>"
      ],
      "text/plain": [
       "   age     sex     bmi  children smoker     region      charges\n",
       "0   19  female  27.900         0    yes  southwest  16884.92400\n",
       "1   18    male  33.770         1     no  southeast   1725.55230\n",
       "2   28    male  33.000         3     no  southeast   4449.46200\n",
       "3   33    male  22.705         0     no  northwest  21984.47061\n",
       "4   32    male  28.880         0     no  northwest   3866.85520"
      ]
     },
     "execution_count": 8,
     "metadata": {},
     "output_type": "execute_result"
    }
   ],
   "source": [
    "df.head()"
   ]
  },
  {
   "cell_type": "code",
   "execution_count": 9,
   "id": "cd389754",
   "metadata": {},
   "outputs": [],
   "source": [
    "# Asigne la columna `charges` a la variable `y`.\n",
    "y = df['charges'].values"
   ]
  },
  {
   "cell_type": "code",
   "execution_count": 18,
   "id": "082a2b90",
   "metadata": {},
   "outputs": [],
   "source": [
    "# Asigne una copia del dataframe `df` a la variable `X`.\n",
    "X= df.copy()"
   ]
  },
  {
   "cell_type": "code",
   "execution_count": 11,
   "id": "5cf9181b",
   "metadata": {},
   "outputs": [],
   "source": [
    "# Remueva la columna `charges` del DataFrame `X`.\n",
    "X.pop('charges'\n",
    "     )"
   ]
  },
  {
   "cell_type": "code",
   "execution_count": 12,
   "id": "bd57149f",
   "metadata": {},
   "outputs": [
    {
     "data": {
      "text/plain": [
       "(1338, 6)"
      ]
     },
     "execution_count": 12,
     "metadata": {},
     "output_type": "execute_result"
    }
   ],
   "source": [
    "X.shape"
   ]
  },
  {
   "cell_type": "code",
   "execution_count": 13,
   "id": "14894e94",
   "metadata": {},
   "outputs": [
    {
     "data": {
      "text/plain": [
       "(1338,)"
      ]
     },
     "execution_count": 13,
     "metadata": {},
     "output_type": "execute_result"
    }
   ],
   "source": [
    "y.shape"
   ]
  },
  {
   "cell_type": "code",
   "execution_count": 14,
   "id": "8f3848e0",
   "metadata": {},
   "outputs": [],
   "source": [
    "def pregunta_02():\n",
    "    \"\"\"\n",
    "    Preparación de los conjuntos de datos.\n",
    "    -------------------------------------------------------------------------------------\n",
    "    \"\"\"\n",
    "\n",
    "    # Importe train_test_split\n",
    "    from sklearn.model_selection import train_test_split\n",
    "\n",
    "    # Cargue los datos y asigne los resultados a `X` y `y`.\n",
    "    X, y = pregunta_01()\n",
    "\n",
    "    # Divida los datos de entrenamiento y prueba. La semilla del generador de números\n",
    "    # aleatorios es 12345. Use 300 patrones para la muestra de prueba.\n",
    "    (X_train, X_test, y_train, y_test,) = train_test_split(\n",
    "        X,\n",
    "        y,\n",
    "        test_size=300,\n",
    "        random_state=12345,\n",
    "    )\n",
    "\n",
    "    # Retorne `X_train`, `X_test`, `y_train` y `y_test`\n",
    "    return X_train, X_test, y_train, y_test"
   ]
  },
  {
   "cell_type": "code",
   "execution_count": 15,
   "id": "411247e5",
   "metadata": {},
   "outputs": [],
   "source": [
    "from sklearn.model_selection import train_test_split"
   ]
  },
  {
   "cell_type": "code",
   "execution_count": 16,
   "id": "93ad16a6",
   "metadata": {},
   "outputs": [],
   "source": [
    " # Cargue los datos y asigne los resultados a `X` y `y`.\n",
    "X, y = pregunta_01()"
   ]
  },
  {
   "cell_type": "code",
   "execution_count": 17,
   "id": "bd234b79",
   "metadata": {},
   "outputs": [],
   "source": [
    "# Divida los datos de entrenamiento y prueba. La semilla del generador de números\n",
    "# aleatorios es 12345. Use 300 patrones para la muestra de prueba.\n",
    "(X_train, X_test, y_train, y_test,) = train_test_split(\n",
    "    X,\n",
    "    y,\n",
    "    test_size=300,\n",
    "    random_state=12345,\n",
    ")"
   ]
  },
  {
   "cell_type": "code",
   "execution_count": null,
   "id": "e1755559",
   "metadata": {},
   "outputs": [],
   "source": [
    "def pregunta_03():\n",
    "    \"\"\"\n",
    "    Especificación del pipeline y entrenamiento\n",
    "    -------------------------------------------------------------------------------------\n",
    "    \"\"\"\n",
    "\n",
    "    # Importe make_column_selector\n",
    "    # Importe make_column_transformer\n",
    "    # Importe SelectKBest\n",
    "    # Importe f_regression\n",
    "    # Importe LinearRegression\n",
    "    # Importe GridSearchCV\n",
    "    # Importe Pipeline\n",
    "    # Importe OneHotEncoder\n",
    "    from ____ import ____\n",
    "\n",
    "    pipeline = ____(\n",
    "        steps=[\n",
    "            # Paso 1: Construya un column_transformer que aplica OneHotEncoder a las\n",
    "            # variables categóricas, y no aplica ninguna transformación al resto de\n",
    "            # las variables.\n",
    "            (\n",
    "                \"column_transfomer\",\n",
    "                ____(\n",
    "                    (\n",
    "                        ____(),\n",
    "                        ____(____=____),\n",
    "                    ),\n",
    "                    remainder=____,\n",
    "                ),\n",
    "            ),\n",
    "            # Paso 2: Construya un selector de características que seleccione las K\n",
    "            # características más importantes. Utilice la función f_regression.\n",
    "            (\n",
    "                \"selectKBest\",\n",
    "                ____(____=____),\n",
    "            ),\n",
    "            # Paso 3: Construya un modelo de regresión lineal.\n",
    "            (\n",
    "                \"____\",\n",
    "                ____(____),\n",
    "            ),\n",
    "        ],\n",
    "    )\n",
    "\n",
    "    # Cargua de las variables.\n",
    "    X_train, _, y_train, _ = pregunta_02()\n",
    "\n",
    "    # Defina un diccionario de parámetros para el GridSearchCV. Se deben\n",
    "    # considerar valores desde 1 hasta 11 regresores para el modelo\n",
    "    param_grid = {\n",
    "        ____: ____(____, ____),\n",
    "    }\n",
    "\n",
    "    # Defina una instancia de GridSearchCV con el pipeline y el diccionario de\n",
    "    # parámetros. Use cv = 5, y como métrica de evaluación el valor negativo del\n",
    "    # error cuadrático medio.\n",
    "    gridSearchCV = ____(\n",
    "        estimator=____,\n",
    "        param_grid=____,\n",
    "        cv=____,\n",
    "        scoring=____,\n",
    "        refit=____,\n",
    "        return_train_score=____,\n",
    "    )\n",
    "\n",
    "    # Búsque la mejor combinación de regresores\n",
    "    gridSearchCV.fit(X_train, y_train)\n",
    "\n",
    "    # Retorne el mejor modelo\n",
    "    return gridSearchCV"
   ]
  },
  {
   "cell_type": "code",
   "execution_count": null,
   "id": "a96c965c",
   "metadata": {},
   "outputs": [],
   "source": [
    "# Importe make_column_selector\n",
    "# Importe make_column_transformer\n",
    "# Importe SelectKBest\n",
    "# Importe f_regression\n",
    "# Importe LinearRegression\n",
    "# Importe GridSearchCV\n",
    "# Importe Pipeline\n",
    "# Importe OneHotEncoder\n"
   ]
  }
 ],
 "metadata": {
  "kernelspec": {
   "display_name": "Python 3 (ipykernel)",
   "language": "python",
   "name": "python3"
  },
  "language_info": {
   "codemirror_mode": {
    "name": "ipython",
    "version": 3
   },
   "file_extension": ".py",
   "mimetype": "text/x-python",
   "name": "python",
   "nbconvert_exporter": "python",
   "pygments_lexer": "ipython3",
   "version": "3.9.7"
  }
 },
 "nbformat": 4,
 "nbformat_minor": 5
}
